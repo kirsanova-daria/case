{
 "cells": [
  {
   "attachments": {},
   "cell_type": "markdown",
   "metadata": {},
   "source": [
    "#### Загрузка, обработка данных"
   ]
  },
  {
   "cell_type": "code",
   "execution_count": 1,
   "metadata": {},
   "outputs": [],
   "source": [
    "import numpy as np\n",
    "import pandas as pd\n",
    "from scipy import stats\n",
    "from matplotlib import pyplot as plt\n",
    "import pingouin as pg\n",
    "import datetime"
   ]
  },
  {
   "cell_type": "code",
   "execution_count": 2,
   "metadata": {},
   "outputs": [],
   "source": [
    "def date_converter(x):\n",
    "    for fmt in ('%Y-%m-%d %H:%M:%S.%f', '%Y-%m-%d %H:%M:%S', '%Y-%m-%d'):\n",
    "        try:\n",
    "            return datetime.datetime.strptime(x, fmt)\n",
    "        except ValueError:\n",
    "            pass\n",
    "    raise ValueError('no valid date format found')"
   ]
  },
  {
   "cell_type": "code",
   "execution_count": 3,
   "metadata": {},
   "outputs": [],
   "source": [
    "df_segment = pd.read_csv('/Users/apple/Desktop/ААА/биг кейс/services_verification_experiment_segment.csv')\n",
    "df_payment = pd.read_csv('/Users/apple/Desktop/ААА/биг кейс/user_payments_info.csv')\n",
    "df_discount = pd.read_csv('/Users/apple/Desktop/ААА/биг кейс/services_verification_discounts.csv')\n",
    "df_item = pd.read_csv('/Users/apple/Desktop/ААА/биг кейс/user_item_info.csv')"
   ]
  },
  {
   "cell_type": "code",
   "execution_count": 5,
   "metadata": {},
   "outputs": [],
   "source": [
    "df_temp = df_discount.merge(df_item[['item_id', 'item_vertical']], on = 'item_id', how = 'left')"
   ]
  },
  {
   "cell_type": "code",
   "execution_count": 8,
   "metadata": {},
   "outputs": [
    {
     "data": {
      "text/plain": [
       "array([ 1.,  3., nan,  6.,  2.,  4.,  5.])"
      ]
     },
     "execution_count": 8,
     "metadata": {},
     "output_type": "execute_result"
    }
   ],
   "source": [
    "df_temp['item_vertical'].unique()"
   ]
  },
  {
   "cell_type": "code",
   "execution_count": 9,
   "metadata": {},
   "outputs": [],
   "source": [
    "df_payment=df_payment.drop('Unnamed: 0', axis=1)\n",
    "df_payment['event_time'] = df_payment.event_time.apply(date_converter)\n",
    "df_segment=df_segment.drop('Unnamed: 0', axis=1)\n",
    "df_discount['discount_day'] = df_discount.discount_day.apply(date_converter)"
   ]
  },
  {
   "cell_type": "code",
   "execution_count": 10,
   "metadata": {},
   "outputs": [],
   "source": [
    "df_pay_seg = df_payment.merge(df_segment, on='user_id')\n",
    "df_pay_info = df_pay_seg.merge(df_discount, on='item_id', how='left')\n",
    "df_pay_full = df_pay_info.drop(['user_id_y', 'Unnamed: 0', 'experiment'], axis=1)\n",
    "\n",
    "df_pay_full=df_pay_full.fillna(0)"
   ]
  },
  {
   "cell_type": "code",
   "execution_count": 11,
   "metadata": {},
   "outputs": [],
   "source": [
    "df_pay_full = df_pay_full.merge(df_item[['item_id', 'item_vertical']], on = 'item_id', how='left')"
   ]
  },
  {
   "cell_type": "code",
   "execution_count": 12,
   "metadata": {},
   "outputs": [],
   "source": [
    "df_pay_full =df_pay_full.fillna(0)"
   ]
  },
  {
   "cell_type": "code",
   "execution_count": 13,
   "metadata": {},
   "outputs": [],
   "source": [
    "df_pay_full['revenue_pred'] = df_pay_full[df_pay_full['event_time']< date_converter('2021-09-15 00:00:00')]['amount_net']\n",
    "df_pay_full['revenue_test'] = df_pay_full[df_pay_full['event_time']>= date_converter('2021-09-15 00:00:00')]['amount_net']"
   ]
  },
  {
   "cell_type": "code",
   "execution_count": 14,
   "metadata": {},
   "outputs": [
    {
     "data": {
      "text/plain": [
       "Timestamp('2021-06-01 00:00:02.357927')"
      ]
     },
     "execution_count": 14,
     "metadata": {},
     "output_type": "execute_result"
    }
   ],
   "source": [
    "df_pay_full['event_time'].min()"
   ]
  },
  {
   "cell_type": "code",
   "execution_count": 15,
   "metadata": {},
   "outputs": [
    {
     "data": {
      "text/plain": [
       "Timestamp('2021-12-01 23:59:33')"
      ]
     },
     "execution_count": 15,
     "metadata": {},
     "output_type": "execute_result"
    }
   ],
   "source": [
    "df_pay_full['event_time'].max()"
   ]
  },
  {
   "cell_type": "code",
   "execution_count": 16,
   "metadata": {},
   "outputs": [],
   "source": [
    "df_pay_full = df_pay_full.fillna(0)"
   ]
  },
  {
   "cell_type": "code",
   "execution_count": 325,
   "metadata": {},
   "outputs": [
    {
     "data": {
      "text/html": [
       "<div>\n",
       "<style scoped>\n",
       "    .dataframe tbody tr th:only-of-type {\n",
       "        vertical-align: middle;\n",
       "    }\n",
       "\n",
       "    .dataframe tbody tr th {\n",
       "        vertical-align: top;\n",
       "    }\n",
       "\n",
       "    .dataframe thead th {\n",
       "        text-align: right;\n",
       "    }\n",
       "</style>\n",
       "<table border=\"1\" class=\"dataframe\">\n",
       "  <thead>\n",
       "    <tr style=\"text-align: right;\">\n",
       "      <th></th>\n",
       "      <th>Unnamed: 0</th>\n",
       "      <th>user_id</th>\n",
       "      <th>item_id</th>\n",
       "      <th>discount_day</th>\n",
       "      <th>experiment</th>\n",
       "    </tr>\n",
       "  </thead>\n",
       "  <tbody>\n",
       "    <tr>\n",
       "      <th>0</th>\n",
       "      <td>0</td>\n",
       "      <td>49000737</td>\n",
       "      <td>11352751363</td>\n",
       "      <td>2021-10-01</td>\n",
       "      <td>1_verification_test</td>\n",
       "    </tr>\n",
       "    <tr>\n",
       "      <th>1</th>\n",
       "      <td>1</td>\n",
       "      <td>4255271</td>\n",
       "      <td>78048500109</td>\n",
       "      <td>2021-10-10</td>\n",
       "      <td>1_verification_test</td>\n",
       "    </tr>\n",
       "    <tr>\n",
       "      <th>2</th>\n",
       "      <td>2</td>\n",
       "      <td>111000153</td>\n",
       "      <td>101676750179</td>\n",
       "      <td>2021-10-02</td>\n",
       "      <td>1_verification_test</td>\n",
       "    </tr>\n",
       "    <tr>\n",
       "      <th>3</th>\n",
       "      <td>3</td>\n",
       "      <td>110750728</td>\n",
       "      <td>162344000369</td>\n",
       "      <td>2021-10-14</td>\n",
       "      <td>1_verification_test</td>\n",
       "    </tr>\n",
       "    <tr>\n",
       "      <th>4</th>\n",
       "      <td>4</td>\n",
       "      <td>143655000006</td>\n",
       "      <td>252307750608</td>\n",
       "      <td>2021-10-09</td>\n",
       "      <td>1_verification_test</td>\n",
       "    </tr>\n",
       "    <tr>\n",
       "      <th>...</th>\n",
       "      <td>...</td>\n",
       "      <td>...</td>\n",
       "      <td>...</td>\n",
       "      <td>...</td>\n",
       "      <td>...</td>\n",
       "    </tr>\n",
       "    <tr>\n",
       "      <th>29958</th>\n",
       "      <td>29958</td>\n",
       "      <td>65500899</td>\n",
       "      <td>1129535751173</td>\n",
       "      <td>2021-09-25</td>\n",
       "      <td>1_verification_test</td>\n",
       "    </tr>\n",
       "    <tr>\n",
       "      <th>29959</th>\n",
       "      <td>29959</td>\n",
       "      <td>830210750056</td>\n",
       "      <td>1129550000127</td>\n",
       "      <td>2021-09-30</td>\n",
       "      <td>1_verification_test</td>\n",
       "    </tr>\n",
       "    <tr>\n",
       "      <th>29960</th>\n",
       "      <td>29960</td>\n",
       "      <td>368182337</td>\n",
       "      <td>1129612500421</td>\n",
       "      <td>2021-09-30</td>\n",
       "      <td>1_verification_test</td>\n",
       "    </tr>\n",
       "    <tr>\n",
       "      <th>29961</th>\n",
       "      <td>29961</td>\n",
       "      <td>399483500082</td>\n",
       "      <td>1130392750186</td>\n",
       "      <td>2021-09-27</td>\n",
       "      <td>1_verification_test</td>\n",
       "    </tr>\n",
       "    <tr>\n",
       "      <th>29962</th>\n",
       "      <td>29962</td>\n",
       "      <td>333703500039</td>\n",
       "      <td>1131370000206</td>\n",
       "      <td>2021-09-28</td>\n",
       "      <td>1_verification_test</td>\n",
       "    </tr>\n",
       "  </tbody>\n",
       "</table>\n",
       "<p>29963 rows × 5 columns</p>\n",
       "</div>"
      ],
      "text/plain": [
       "       Unnamed: 0       user_id        item_id discount_day  \\\n",
       "0               0      49000737    11352751363   2021-10-01   \n",
       "1               1       4255271    78048500109   2021-10-10   \n",
       "2               2     111000153   101676750179   2021-10-02   \n",
       "3               3     110750728   162344000369   2021-10-14   \n",
       "4               4  143655000006   252307750608   2021-10-09   \n",
       "...           ...           ...            ...          ...   \n",
       "29958       29958      65500899  1129535751173   2021-09-25   \n",
       "29959       29959  830210750056  1129550000127   2021-09-30   \n",
       "29960       29960     368182337  1129612500421   2021-09-30   \n",
       "29961       29961  399483500082  1130392750186   2021-09-27   \n",
       "29962       29962  333703500039  1131370000206   2021-09-28   \n",
       "\n",
       "                experiment  \n",
       "0      1_verification_test  \n",
       "1      1_verification_test  \n",
       "2      1_verification_test  \n",
       "3      1_verification_test  \n",
       "4      1_verification_test  \n",
       "...                    ...  \n",
       "29958  1_verification_test  \n",
       "29959  1_verification_test  \n",
       "29960  1_verification_test  \n",
       "29961  1_verification_test  \n",
       "29962  1_verification_test  \n",
       "\n",
       "[29963 rows x 5 columns]"
      ]
     },
     "execution_count": 325,
     "metadata": {},
     "output_type": "execute_result"
    }
   ],
   "source": [
    "df_discount"
   ]
  },
  {
   "cell_type": "code",
   "execution_count": 327,
   "metadata": {},
   "outputs": [
    {
     "data": {
      "text/html": [
       "<div>\n",
       "<style scoped>\n",
       "    .dataframe tbody tr th:only-of-type {\n",
       "        vertical-align: middle;\n",
       "    }\n",
       "\n",
       "    .dataframe tbody tr th {\n",
       "        vertical-align: top;\n",
       "    }\n",
       "\n",
       "    .dataframe thead th {\n",
       "        text-align: right;\n",
       "    }\n",
       "</style>\n",
       "<table border=\"1\" class=\"dataframe\">\n",
       "  <thead>\n",
       "    <tr style=\"text-align: right;\">\n",
       "      <th></th>\n",
       "      <th>Unnamed: 0</th>\n",
       "      <th>user_id</th>\n",
       "      <th>item_id</th>\n",
       "      <th>discount_day</th>\n",
       "      <th>experiment</th>\n",
       "    </tr>\n",
       "  </thead>\n",
       "  <tbody>\n",
       "    <tr>\n",
       "      <th>0</th>\n",
       "      <td>0</td>\n",
       "      <td>49000737</td>\n",
       "      <td>11352751363</td>\n",
       "      <td>2021-10-01</td>\n",
       "      <td>1_verification_test</td>\n",
       "    </tr>\n",
       "    <tr>\n",
       "      <th>1</th>\n",
       "      <td>1</td>\n",
       "      <td>4255271</td>\n",
       "      <td>78048500109</td>\n",
       "      <td>2021-10-10</td>\n",
       "      <td>1_verification_test</td>\n",
       "    </tr>\n",
       "    <tr>\n",
       "      <th>4</th>\n",
       "      <td>4</td>\n",
       "      <td>143655000006</td>\n",
       "      <td>252307750608</td>\n",
       "      <td>2021-10-09</td>\n",
       "      <td>1_verification_test</td>\n",
       "    </tr>\n",
       "    <tr>\n",
       "      <th>23</th>\n",
       "      <td>23</td>\n",
       "      <td>3563000104</td>\n",
       "      <td>480168500126</td>\n",
       "      <td>2021-10-05</td>\n",
       "      <td>1_verification_test</td>\n",
       "    </tr>\n",
       "    <tr>\n",
       "      <th>27</th>\n",
       "      <td>27</td>\n",
       "      <td>365109750151</td>\n",
       "      <td>537386251639</td>\n",
       "      <td>2021-10-06</td>\n",
       "      <td>1_verification_test</td>\n",
       "    </tr>\n",
       "    <tr>\n",
       "      <th>...</th>\n",
       "      <td>...</td>\n",
       "      <td>...</td>\n",
       "      <td>...</td>\n",
       "      <td>...</td>\n",
       "      <td>...</td>\n",
       "    </tr>\n",
       "    <tr>\n",
       "      <th>29957</th>\n",
       "      <td>29957</td>\n",
       "      <td>383716649</td>\n",
       "      <td>1129417500552</td>\n",
       "      <td>2021-09-25</td>\n",
       "      <td>1_verification_test</td>\n",
       "    </tr>\n",
       "    <tr>\n",
       "      <th>29958</th>\n",
       "      <td>29958</td>\n",
       "      <td>65500899</td>\n",
       "      <td>1129535751173</td>\n",
       "      <td>2021-09-25</td>\n",
       "      <td>1_verification_test</td>\n",
       "    </tr>\n",
       "    <tr>\n",
       "      <th>29960</th>\n",
       "      <td>29960</td>\n",
       "      <td>368182337</td>\n",
       "      <td>1129612500421</td>\n",
       "      <td>2021-09-30</td>\n",
       "      <td>1_verification_test</td>\n",
       "    </tr>\n",
       "    <tr>\n",
       "      <th>29961</th>\n",
       "      <td>29961</td>\n",
       "      <td>399483500082</td>\n",
       "      <td>1130392750186</td>\n",
       "      <td>2021-09-27</td>\n",
       "      <td>1_verification_test</td>\n",
       "    </tr>\n",
       "    <tr>\n",
       "      <th>29962</th>\n",
       "      <td>29962</td>\n",
       "      <td>333703500039</td>\n",
       "      <td>1131370000206</td>\n",
       "      <td>2021-09-28</td>\n",
       "      <td>1_verification_test</td>\n",
       "    </tr>\n",
       "  </tbody>\n",
       "</table>\n",
       "<p>10244 rows × 5 columns</p>\n",
       "</div>"
      ],
      "text/plain": [
       "       Unnamed: 0       user_id        item_id discount_day  \\\n",
       "0               0      49000737    11352751363   2021-10-01   \n",
       "1               1       4255271    78048500109   2021-10-10   \n",
       "4               4  143655000006   252307750608   2021-10-09   \n",
       "23             23    3563000104   480168500126   2021-10-05   \n",
       "27             27  365109750151   537386251639   2021-10-06   \n",
       "...           ...           ...            ...          ...   \n",
       "29957       29957     383716649  1129417500552   2021-09-25   \n",
       "29958       29958      65500899  1129535751173   2021-09-25   \n",
       "29960       29960     368182337  1129612500421   2021-09-30   \n",
       "29961       29961  399483500082  1130392750186   2021-09-27   \n",
       "29962       29962  333703500039  1131370000206   2021-09-28   \n",
       "\n",
       "                experiment  \n",
       "0      1_verification_test  \n",
       "1      1_verification_test  \n",
       "4      1_verification_test  \n",
       "23     1_verification_test  \n",
       "27     1_verification_test  \n",
       "...                    ...  \n",
       "29957  1_verification_test  \n",
       "29958  1_verification_test  \n",
       "29960  1_verification_test  \n",
       "29961  1_verification_test  \n",
       "29962  1_verification_test  \n",
       "\n",
       "[10244 rows x 5 columns]"
      ]
     },
     "execution_count": 327,
     "metadata": {},
     "output_type": "execute_result"
    }
   ],
   "source": [
    "df_discount[df_discount.duplicated(subset=['user_id'],keep=False)]"
   ]
  },
  {
   "cell_type": "code",
   "execution_count": null,
   "metadata": {},
   "outputs": [],
   "source": [
    "df_discount.groupby(['user_id'])['discount_day']"
   ]
  },
  {
   "cell_type": "code",
   "execution_count": 328,
   "metadata": {},
   "outputs": [
    {
     "data": {
      "text/html": [
       "<div>\n",
       "<style scoped>\n",
       "    .dataframe tbody tr th:only-of-type {\n",
       "        vertical-align: middle;\n",
       "    }\n",
       "\n",
       "    .dataframe tbody tr th {\n",
       "        vertical-align: top;\n",
       "    }\n",
       "\n",
       "    .dataframe thead th {\n",
       "        text-align: right;\n",
       "    }\n",
       "</style>\n",
       "<table border=\"1\" class=\"dataframe\">\n",
       "  <thead>\n",
       "    <tr style=\"text-align: right;\">\n",
       "      <th></th>\n",
       "      <th>Unnamed: 0</th>\n",
       "      <th>user_id</th>\n",
       "      <th>item_id</th>\n",
       "      <th>discount_day</th>\n",
       "      <th>experiment</th>\n",
       "    </tr>\n",
       "  </thead>\n",
       "  <tbody>\n",
       "    <tr>\n",
       "      <th>0</th>\n",
       "      <td>0</td>\n",
       "      <td>49000737</td>\n",
       "      <td>11352751363</td>\n",
       "      <td>2021-10-01</td>\n",
       "      <td>1_verification_test</td>\n",
       "    </tr>\n",
       "    <tr>\n",
       "      <th>6455</th>\n",
       "      <td>6455</td>\n",
       "      <td>49000737</td>\n",
       "      <td>125326751194</td>\n",
       "      <td>2021-10-01</td>\n",
       "      <td>1_verification_test</td>\n",
       "    </tr>\n",
       "    <tr>\n",
       "      <th>14096</th>\n",
       "      <td>14096</td>\n",
       "      <td>49000737</td>\n",
       "      <td>468541250039</td>\n",
       "      <td>2021-10-01</td>\n",
       "      <td>1_verification_test</td>\n",
       "    </tr>\n",
       "    <tr>\n",
       "      <th>17047</th>\n",
       "      <td>17047</td>\n",
       "      <td>49000737</td>\n",
       "      <td>939891000081</td>\n",
       "      <td>2021-10-01</td>\n",
       "      <td>1_verification_test</td>\n",
       "    </tr>\n",
       "    <tr>\n",
       "      <th>29011</th>\n",
       "      <td>29011</td>\n",
       "      <td>49000737</td>\n",
       "      <td>57002153</td>\n",
       "      <td>2021-10-01</td>\n",
       "      <td>1_verification_test</td>\n",
       "    </tr>\n",
       "  </tbody>\n",
       "</table>\n",
       "</div>"
      ],
      "text/plain": [
       "       Unnamed: 0   user_id       item_id discount_day           experiment\n",
       "0               0  49000737   11352751363   2021-10-01  1_verification_test\n",
       "6455         6455  49000737  125326751194   2021-10-01  1_verification_test\n",
       "14096       14096  49000737  468541250039   2021-10-01  1_verification_test\n",
       "17047       17047  49000737  939891000081   2021-10-01  1_verification_test\n",
       "29011       29011  49000737      57002153   2021-10-01  1_verification_test"
      ]
     },
     "execution_count": 328,
     "metadata": {},
     "output_type": "execute_result"
    }
   ],
   "source": [
    "df_discount[df_discount.user_id == 49000737]"
   ]
  },
  {
   "cell_type": "code",
   "execution_count": 326,
   "metadata": {},
   "outputs": [
    {
     "data": {
      "text/plain": [
       "22658"
      ]
     },
     "execution_count": 326,
     "metadata": {},
     "output_type": "execute_result"
    }
   ],
   "source": [
    "df_discount['user_id'].nunique()"
   ]
  },
  {
   "cell_type": "code",
   "execution_count": 41,
   "metadata": {},
   "outputs": [],
   "source": [
    "df_verific = df_segment.merge(df_discount, on='user_id', how='left')\n",
    "df_verific = df_verific.drop(['Unnamed: 0', 'experiment'], axis=1).fillna(0)\n",
    "df_verific['verified'] = df_verific['item_id'] >0"
   ]
  },
  {
   "cell_type": "code",
   "execution_count": 434,
   "metadata": {},
   "outputs": [],
   "source": [
    "def descr(d, groups, col):\n",
    "    for a in groups:\n",
    "        print(a)\n",
    "        t = d[d.experiment_group==a][col]\n",
    "        print(f'среднее = {t.mean()}, СКО = {t.std()}, медиана = {t.median()}, 75% квантиль = {t.quantile(0.75)}, 95% квантиль = {t.quantile(0.95)}, 99% квантиль = {t.quantile(0.99)}, 99.9% квантиль = {t.quantile(0.999)}, кол-во = {t.count()}')"
   ]
  },
  {
   "cell_type": "code",
   "execution_count": 302,
   "metadata": {},
   "outputs": [],
   "source": [
    "def ttest(data, test, control, col):\n",
    "    print(f'Среднее {test} = ', data[data['experiment_group']==test][col].mean())\n",
    "    print(f'Среднее {control} = ', data[data['experiment_group']==control][col].mean())\n",
    "    print(stats.ttest_ind(data[data['experiment_group']==test][col],data[data['experiment_group']==control][col]))"
   ]
  },
  {
   "cell_type": "code",
   "execution_count": 303,
   "metadata": {},
   "outputs": [],
   "source": [
    "def ttest_groups(d, groups, col):\n",
    "    for i in range(3):\n",
    "        for j in range(i+1, 3):\n",
    "            ttest(d, groups[i], groups[j], col)"
   ]
  },
  {
   "cell_type": "code",
   "execution_count": 304,
   "metadata": {},
   "outputs": [],
   "source": [
    "def add_cuped(d, groups, test, pred):\n",
    "    for a in groups:\n",
    "        t = d[d.experiment_group == a]\n",
    "        teta = np.cov(t[test], t[pred], ddof = 1)[1,0]/np.var(t[pred])\n",
    "        m = np.mean(t[pred])\n",
    "        cuped = t[test] - teta*(t[pred] - m)\n",
    "        d = d.join(cuped.to_frame(name=f'{a}_cuped'), how='left')\n",
    "    d = d.fillna(0)\n",
    "    d['cuped'] = d['no_discount_cuped'] + d['30_discount_cuped'] + d['60_discount_cuped']\n",
    "    return d"
   ]
  },
  {
   "attachments": {},
   "cell_type": "markdown",
   "metadata": {},
   "source": [
    "#### **Постановка задачи**"
   ]
  },
  {
   "attachments": {},
   "cell_type": "markdown",
   "metadata": {},
   "source": [
    "Данные:\n",
    "- прошел/нет верификацию; на какое объявление использовал скидку\n",
    "- инфо об объявлениях (регион, вертикаль, дата создания)\n",
    "- инфо о продавцах (юр/физ лицо, дата регистрации, покупки)"
   ]
  },
  {
   "attachments": {},
   "cell_type": "markdown",
   "metadata": {},
   "source": [
    "Идея: Продавцы будут охотнее верифицировать свой аккаунт, если выдавать им скидку на услуги Авито за прохождение верификации.\n",
    "\n",
    "Экспериментальные группы: \n",
    "- получили сообщение о том, что если пройдут верификацию, это будут видеть покупатели\n",
    "- получили то же сообщение + скидка 30% на услуги продвижения (3 тип услуг, 1 вертикаль)\n",
    "- получили то же сообщение + скидка 60% на услуги продвижения (3 тип услуг, 1 вертикаль)\n",
    "\n",
    "Вопросы:\n",
    "\n",
    "Скидка стимулирует верификацию аккаунта?\n",
    "- метрика: % верификаций\n",
    "- H0: % верификаций в группе со скидкой = % верификаций в группе без скидки\n",
    "\n",
    "В группах, где больше скидка, больше покупок? Какой размер скидки оптимален?\n",
    "- метрики: число покупок на пользователя, ARPU\n",
    "- H0: покупки/ARPU в группе со скидкой = покупки/ARPU в группе без скидки"
   ]
  },
  {
   "attachments": {},
   "cell_type": "markdown",
   "metadata": {},
   "source": [
    "#### **Предварительный анализ данных** \n",
    "\n",
    "На предпериоде, для метрик ARPPU и число покупок на пользователя"
   ]
  },
  {
   "attachments": {},
   "cell_type": "markdown",
   "metadata": {},
   "source": [
    "##### **ARPU**"
   ]
  },
  {
   "cell_type": "code",
   "execution_count": null,
   "metadata": {},
   "outputs": [],
   "source": [
    "revenue_users = df_pay_full.groupby(['experiment_group', 'user_id_x'])['revenue_pred'].sum().reset_index()\n",
    "groups = ['no_discount', '30_discount', '60_discount']"
   ]
  },
  {
   "cell_type": "code",
   "execution_count": 305,
   "metadata": {},
   "outputs": [
    {
     "name": "stdout",
     "output_type": "stream",
     "text": [
      "60_discount\n",
      "среднее = 419.86570929217515, СКО = 3860.0371332452282, медиана = 76.8461538461538, 99% квантиль = 4590.762515384598, 99.9% квантиль = 39427.8594653953\n",
      "30_discount\n",
      "среднее = 401.15674508092866, СКО = 3198.534223171417, медиана = 76.3846153846154, 99% квантиль = 4444.66638461538, 99.9% квантиль = 36135.51246153976\n",
      "no_discount\n",
      "среднее = 434.3674498982861, СКО = 6826.732826363259, медиана = 76.69230769230771, 99% квантиль = 4713.658346153846, 99.9% квантиль = 37962.157253077756\n"
     ]
    }
   ],
   "source": [
    "descr(revenue_users, groups, 'revenue_pred')"
   ]
  },
  {
   "attachments": {},
   "cell_type": "markdown",
   "metadata": {},
   "source": [
    "- Медианы совпадают\n",
    "- Средние отличаются, макисмальное в группе no_discount\n",
    "- В группе no_discount СКО больше в два раза\n",
    "\n",
    "Все это говорит о том, что в среднем группы не различаются, но пользователи с большими ARPU распеределены не равномерно - их больше в no_discount(пользователей )"
   ]
  },
  {
   "cell_type": "code",
   "execution_count": 312,
   "metadata": {},
   "outputs": [
    {
     "data": {
      "image/png": "[encoded data removed]",
      "text/plain": [
       "<Figure size 1200x400 with 2 Axes>"
      ]
     },
     "metadata": {},
     "output_type": "display_data"
    }
   ],
   "source": [
    "f, ax = plt.subplots(1,2, figsize=(12,4))\n",
    "for a in groups:\n",
    "    t = revenue_users[revenue_users.experiment_group==a]['revenue_pred']\n",
    "    ax[0].hist(t[t.values<=t.quantile(0.95)], alpha = 0.5, label = a)\n",
    "    ax[1].hist(t[t.values>t.quantile(0.95)], alpha = 0.5, label = a)\n",
    "ax[0].set_title('95% выборки')\n",
    "ax[1].set_title('5% выборки')\n",
    "ax[0].legend()\n",
    "ax[1].legend()\n",
    "f.suptitle('Распределение ARPU в группах')\n",
    "f.set_tight_layout(True)\n",
    "plt.show()"
   ]
  },
  {
   "attachments": {},
   "cell_type": "markdown",
   "metadata": {},
   "source": [
    "- На графике слева видим, что 95% выборок распределены примерно одинаково\n",
    "- График справа подтверждает предположение о наличии выбросов в группе no_diacount"
   ]
  },
  {
   "cell_type": "code",
   "execution_count": 20,
   "metadata": {},
   "outputs": [
    {
     "name": "stdout",
     "output_type": "stream",
     "text": [
      "no_discount 30_discount\n",
      "Ttest_indResult(statistic=1.4110619999187177, pvalue=0.15822784503710177)\n",
      "no_discount 60_discount\n",
      "Ttest_indResult(statistic=0.5920084139050339, pvalue=0.5538456051456526)\n",
      "30_discount 60_discount\n",
      "Ttest_indResult(statistic=-1.193939775536545, pvalue=0.23250291090867192)\n"
     ]
    }
   ],
   "source": [
    "# t-test на равенство средних\n",
    "\n",
    "for i in range(3):\n",
    "    for j in range(i+1, 3):\n",
    "        print(groups[i], groups[j])\n",
    "        print(stats.ttest_ind(revenue_users[revenue_users['experiment_group']==groups[i]]['revenue_pred'],revenue_users[revenue_users['experiment_group']==groups[j]]['revenue_pred']))"
   ]
  },
  {
   "attachments": {},
   "cell_type": "markdown",
   "metadata": {},
   "source": [
    "t-test показал, что средние различаются не значимо"
   ]
  },
  {
   "cell_type": "code",
   "execution_count": 22,
   "metadata": {},
   "outputs": [
    {
     "name": "stdout",
     "output_type": "stream",
     "text": [
      "H0: no_discount = 30_discount, p-value = 0.9503248543607636\n",
      "H0: no_discount = 60_discount, p-value = 0.5256025985574543\n",
      "H0: 30_discount = 60_discount, p-value = 0.31415908315859564\n"
     ]
    }
   ],
   "source": [
    "for i in range(3):\n",
    "    for j in range(i+1, 3):\n",
    "        _, p = stats.kstest(revenue_users[revenue_users.experiment_group==groups[i]]['revenue_pred'],\n",
    "                     revenue_users[revenue_users.experiment_group==groups[j]]['revenue_pred'])\n",
    "        print(f'H0: {groups[i]} = {groups[j]}, p-value = {p}')"
   ]
  },
  {
   "attachments": {},
   "cell_type": "markdown",
   "metadata": {},
   "source": [
    "Критерий Колмагорова-Смирнова не показал, что выборки экспериментальных групп семплированы из разных распределений. Но СКО контрольной группы отличается от тестовых почти в 2 раза. Поэтому при интерпретации будем использовать CUPED и смотреть отдельно для 95% и 5% распределения.\n",
    "\n",
    "Далее также проанализируем метрику число покупок на пользователя"
   ]
  },
  {
   "attachments": {},
   "cell_type": "markdown",
   "metadata": {},
   "source": [
    "##### **Покупки на пользователя**"
   ]
  },
  {
   "cell_type": "code",
   "execution_count": 314,
   "metadata": {},
   "outputs": [],
   "source": [
    "df_pay_full['buy_pred'] = df_pay_full.revenue_pred > 0\n",
    "df_pay_full['buy_test'] = df_pay_full.revenue_test > 0\n",
    "\n",
    "buys_users_test = df_pay_full.groupby(['experiment_group', 'user_id_x'])['buy_test'].sum().reset_index()\n",
    "buys_users_pred = df_pay_full.groupby(['experiment_group', 'user_id_x'])['buy_pred'].sum().reset_index()"
   ]
  },
  {
   "cell_type": "code",
   "execution_count": 315,
   "metadata": {},
   "outputs": [
    {
     "name": "stdout",
     "output_type": "stream",
     "text": [
      "60_discount\n",
      "среднее = 14.52172764625318, СКО = 199.74293614506047, медиана = 2.0, 99% квантиль = 144.0, 99.9% квантиль = 1770.124000000069\n",
      "30_discount\n",
      "среднее = 13.305717995528697, СКО = 156.77045402656805, медиана = 2.0, 99% квантиль = 136.0, 99.9% квантиль = 1575.5300000002026\n",
      "no_discount\n",
      "среднее = 15.254705848213423, СКО = 375.5307782412295, медиана = 2.0, 99% квантиль = 144.0, 99.9% квантиль = 1690.7130000001634\n"
     ]
    }
   ],
   "source": [
    "descr(buys_users_pred, groups, 'buy_pred')"
   ]
  },
  {
   "cell_type": "code",
   "execution_count": 317,
   "metadata": {},
   "outputs": [
    {
     "data": {
      "image/png": "[encoded data removed]",
      "text/plain": [
       "<Figure size 1200x400 with 2 Axes>"
      ]
     },
     "metadata": {},
     "output_type": "display_data"
    }
   ],
   "source": [
    "f, ax = plt.subplots(1,2, figsize=(12, 4))\n",
    "for a in groups:\n",
    "    t = buys_users_pred[buys_users_pred.experiment_group==a]['buy_pred']\n",
    "    ax[0].hist(t[t.values<=t.quantile(0.95)], alpha = 0.5, label = a)\n",
    "    ax[1].hist(t[t.values>t.quantile(0.95)], alpha = 0.5, label = a)\n",
    "ax[0].set_title('95% выборки')\n",
    "ax[1].set_title('5% выборки')\n",
    "ax[0].legend()\n",
    "ax[1].legend()\n",
    "f.suptitle('Распределение числа покупок на пользователя в группах')\n",
    "f.set_tight_layout(True)\n",
    "plt.show()\n"
   ]
  },
  {
   "cell_type": "code",
   "execution_count": 26,
   "metadata": {},
   "outputs": [
    {
     "name": "stdout",
     "output_type": "stream",
     "text": [
      "no_discount 30_discount\n",
      "Ttest_indResult(statistic=1.533878200472596, pvalue=0.12506115701251883)\n",
      "no_discount 60_discount\n",
      "Ttest_indResult(statistic=0.5516376191027822, pvalue=0.5811972564777943)\n",
      "30_discount 60_discount\n",
      "Ttest_indResult(statistic=-1.53210630681474, pvalue=0.1254977494358592)\n"
     ]
    }
   ],
   "source": [
    "# t-test на равенство средних\n",
    "\n",
    "for i in range(3):\n",
    "    for j in range(i+1, 3):\n",
    "        print(groups[i], groups[j])\n",
    "        print(stats.ttest_ind(buys_users_pred[buys_users_pred['experiment_group']==groups[i]]['buy_pred'],buys_users_pred[buys_users_pred['experiment_group']==groups[j]]['buy_pred']))"
   ]
  },
  {
   "cell_type": "code",
   "execution_count": 27,
   "metadata": {},
   "outputs": [
    {
     "name": "stdout",
     "output_type": "stream",
     "text": [
      "H0: no_discount = 30_discount, p-value = 0.9799141761239896\n",
      "H0: no_discount = 60_discount, p-value = 0.8175941518269176\n",
      "H0: 30_discount = 60_discount, p-value = 0.6834348141585147\n"
     ]
    }
   ],
   "source": [
    "for i in range(3):\n",
    "    for j in range(i+1, 3):\n",
    "        _, p = stats.kstest(buys_users_pred[buys_users_pred.experiment_group==groups[i]]['buy_pred'],\n",
    "                     buys_users_pred[buys_users_pred.experiment_group==groups[j]]['buy_pred'])\n",
    "        print(f'H0: {groups[i]} = {groups[j]}, p-value = {p}')"
   ]
  },
  {
   "attachments": {},
   "cell_type": "markdown",
   "metadata": {},
   "source": [
    "Наблюдаем то же, что и для ARPU:\n",
    "- средние в группах не различаются\n",
    "- СКО группы no_discount в 2 раза превышает СКО других групп из-за того, что no_dicount содержит больше выбросов"
   ]
  },
  {
   "attachments": {},
   "cell_type": "markdown",
   "metadata": {},
   "source": [
    "#### **Интерпретация результатов**"
   ]
  },
  {
   "attachments": {},
   "cell_type": "markdown",
   "metadata": {},
   "source": [
    "##### **Гипотеза1: Чем больше скидка, тем больше % верификаций?**"
   ]
  },
  {
   "cell_type": "code",
   "execution_count": 341,
   "metadata": {},
   "outputs": [],
   "source": [
    "n = df_discount['user_id'].nunique()\n",
    "verified_users = pd.DataFrame({'user_id':df_discount['user_id'].unique(), 'verified': np.ones((n,))})"
   ]
  },
  {
   "cell_type": "code",
   "execution_count": 342,
   "metadata": {},
   "outputs": [],
   "source": [
    "df_verified = df_segment.merge(verified_users, on='user_id', how = 'left')"
   ]
  },
  {
   "cell_type": "code",
   "execution_count": 345,
   "metadata": {},
   "outputs": [],
   "source": [
    "df_verified = df_verified.fillna(0)"
   ]
  },
  {
   "cell_type": "code",
   "execution_count": 347,
   "metadata": {},
   "outputs": [
    {
     "name": "stdout",
     "output_type": "stream",
     "text": [
      "Среднее 60_discount =  0.0327886963829846\n",
      "Среднее 30_discount =  0.02950765385570619\n",
      "Ttest_indResult(statistic=6.7252543173032935, pvalue=1.7547062422868957e-11)\n",
      "Среднее 60_discount =  0.0327886963829846\n",
      "Среднее no_discount =  0.026847816732257283\n",
      "Ttest_indResult(statistic=12.464991483226909, pvalue=1.1728381169823871e-35)\n",
      "Среднее 30_discount =  0.02950765385570619\n",
      "Среднее no_discount =  0.026847816732257283\n",
      "Ttest_indResult(statistic=5.735998658727922, pvalue=9.699404703656729e-09)\n"
     ]
    }
   ],
   "source": [
    "ttest_groups(df_verified, groups, 'verified')"
   ]
  },
  {
   "attachments": {},
   "cell_type": "markdown",
   "metadata": {},
   "source": [
    "- % верификаций значимо различается между группами\n",
    "- соотношение метрики:  60_discount > 30_discount > no_discount\n",
    "- нулевая гипотеза не отвергается"
   ]
  },
  {
   "cell_type": "code",
   "execution_count": 321,
   "metadata": {},
   "outputs": [],
   "source": [
    "df_verific.columns = ['user_id_x', 'experiment_group', 'user_type', 'registration_time',\n",
    "       'item_id', 'discount_day', 'verified']"
   ]
  },
  {
   "attachments": {},
   "cell_type": "markdown",
   "metadata": {},
   "source": [
    "##### **Гипотеза2: Предоставление скидки повышает активность пользователей?**\n",
    "\n",
    "Будем измерять активность с помощью двух метрик: число покупок на пользователя и ARPU"
   ]
  },
  {
   "cell_type": "code",
   "execution_count": 89,
   "metadata": {},
   "outputs": [],
   "source": [
    "buys_users_full = buys_users_test.merge(buys_users_pred[['user_id_x', 'buy_pred']], on='user_id_x', how='left')"
   ]
  },
  {
   "cell_type": "code",
   "execution_count": 246,
   "metadata": {},
   "outputs": [
    {
     "name": "stderr",
     "output_type": "stream",
     "text": [
      "/var/folders/57/s2dcmvt50cgg70zhjvvnc_kr0000gn/T/ipykernel_52590/3885445120.py:1: FutureWarning: Indexing with multiple keys (implicitly converted to a tuple of keys) will be deprecated, use a list instead.\n",
      "  df_users = df_pay_full.groupby(['experiment_group', 'user_id_x'])['revenue_pred', 'revenue_test', 'buy_pred', 'buy_test'].sum().reset_index()\n"
     ]
    }
   ],
   "source": [
    "df_users = df_pay_full.groupby(['experiment_group', 'user_id_x'])['revenue_pred', 'revenue_test', 'buy_pred', 'buy_test'].sum().reset_index()"
   ]
  },
  {
   "attachments": {},
   "cell_type": "markdown",
   "metadata": {},
   "source": [
    "##### **На всей выборке**\n",
    "\n",
    "Для обеих метрик применим CUPED, тк на предварительном анализе видели, что в группах разные дисперсии"
   ]
  },
  {
   "attachments": {},
   "cell_type": "markdown",
   "metadata": {},
   "source": [
    "**Покупки на пользователя**"
   ]
  },
  {
   "cell_type": "code",
   "execution_count": 100,
   "metadata": {},
   "outputs": [],
   "source": [
    "groups = ['60_discount', '30_discount', 'no_discount']"
   ]
  },
  {
   "cell_type": "code",
   "execution_count": null,
   "metadata": {},
   "outputs": [],
   "source": [
    "buys_users_full = add_cuped(buys_users_full, groups, 'buy_pred', 'buy_test')"
   ]
  },
  {
   "cell_type": "code",
   "execution_count": 245,
   "metadata": {},
   "outputs": [
    {
     "name": "stdout",
     "output_type": "stream",
     "text": [
      "60_discount vs 30_discount:\n",
      "    Средние: 60_discount =  10.864087262766581 30_discount =  9.871074186525565\n",
      "    Разность (60_discount-30_discount)= 0.9930130762410165, 0.10059827912108305\n",
      "    Ttest_indResult(statistic=6.234383909593348, pvalue=4.544399120648464e-10)\n",
      "\n",
      "60_discount vs no_discount:\n",
      "    Средние: 60_discount =  10.864087262766581 no_discount =  11.540035983053142\n",
      "    Разность (60_discount-no_discount)= -0.6759487202865611, -0.058574229861952785\n",
      "    Ttest_indResult(statistic=-3.1488792294826093, pvalue=0.00163921354057927)\n",
      "\n",
      "30_discount vs no_discount:\n",
      "    Средние: 30_discount =  9.871074186525565 no_discount =  11.540035983053142\n",
      "    Разность (30_discount-no_discount)= -1.6689617965275776, -0.14462362153623207\n",
      "    Ttest_indResult(statistic=-8.192370041973446, pvalue=2.575784038881167e-16)\n",
      "\n"
     ]
    }
   ],
   "source": [
    "ttest_groups(buys_users_full, groups, 'cuped')"
   ]
  },
  {
   "attachments": {},
   "cell_type": "markdown",
   "metadata": {},
   "source": [
    "**ARPU**"
   ]
  },
  {
   "cell_type": "code",
   "execution_count": 247,
   "metadata": {},
   "outputs": [
    {
     "name": "stdout",
     "output_type": "stream",
     "text": [
      "60_discount vs 30_discount:\n",
      "    Средние: 60_discount =  315.2263789563986 30_discount =  301.248374943583\n",
      "    Разность (60_discount-30_discount)= 13.978004012815632, 0.046400263621117946\n",
      "    Ttest_indResult(statistic=4.019302424011516, pvalue=5.8391575680551817e-05)\n",
      "\n",
      "60_discount vs no_discount:\n",
      "    Средние: 60_discount =  315.2263789563986 no_discount =  330.41162755605427\n",
      "    Разность (60_discount-no_discount)= -15.185248599655665, -0.045958578128669186\n",
      "    Ttest_indResult(statistic=-3.5251500722122016, pvalue=0.00042333490699263945)\n",
      "\n",
      "30_discount vs no_discount:\n",
      "    Средние: 30_discount =  301.248374943583 no_discount =  330.41162755605427\n",
      "    Разность (30_discount-no_discount)= -29.163252612471297, -0.08826339686706018\n",
      "    Ttest_indResult(statistic=-7.035643755219111, pvalue=1.9895794503428678e-12)\n",
      "\n"
     ]
    }
   ],
   "source": [
    "revenue_users = add_cuped(df_users, groups, 'revenue_test', 'revenue_pred')\n",
    "ttest_groups(revenue_users, groups, 'cuped')"
   ]
  },
  {
   "attachments": {},
   "cell_type": "markdown",
   "metadata": {},
   "source": [
    "- Отношение среднего метрик в группах: no_discount > 60_disocunt > 30_discount\n",
    "- Тот факт, что в группе 60_disocunt больше покупок, чем в 30_discount можно объяснить влиянием скидки.\n",
    "- Однако то, что в no_discount среднее число покупок максимально, противоречит гипотезе о влиянии скидки на активность пользователей.\n",
    "\n",
    "Ранее мы видели, что всего 2-3% пользователей прошли верификацию и получили скидку. Поэтому проверим ее влияние только на них"
   ]
  },
  {
   "attachments": {},
   "cell_type": "markdown",
   "metadata": {},
   "source": [
    "##### **Exposure**"
   ]
  },
  {
   "cell_type": "code",
   "execution_count": 351,
   "metadata": {},
   "outputs": [],
   "source": [
    "verified_users.columns = ['user_id_x', 'verified']\n",
    "users_exposure = verified_users.merge(df_users, on='user_id_x', how='left')"
   ]
  },
  {
   "attachments": {},
   "cell_type": "markdown",
   "metadata": {},
   "source": [
    "**Покупки на пользователя**\n",
    "\n",
    "Сначала посмотрим на описательные статистики, графики, чтобы понять, какой критерий лучше применять"
   ]
  },
  {
   "cell_type": "code",
   "execution_count": 357,
   "metadata": {},
   "outputs": [
    {
     "name": "stdout",
     "output_type": "stream",
     "text": [
      "60_discount\n",
      "среднее = 28.705759785682393, СКО = 292.2157683416565, медиана = 4.0, 99% квантиль = 335.4599999999991, 99.9% квантиль = 4574.708000000206\n",
      "30_discount\n",
      "среднее = 23.339432284541722, СКО = 173.06234979289914, медиана = 4.0, 99% квантиль = 259.58999999999924, 99.9% квантиль = 2942.7650000000012\n",
      "no_discount\n",
      "среднее = 26.856790630778715, СКО = 285.1844296152929, медиана = 3.0, 99% квантиль = 357.72000000000116, 99.9% квантиль = 3225.118000000256\n"
     ]
    }
   ],
   "source": [
    "descr(users_exposure, groups, 'buy_pred')"
   ]
  },
  {
   "cell_type": "code",
   "execution_count": 358,
   "metadata": {},
   "outputs": [
    {
     "name": "stdout",
     "output_type": "stream",
     "text": [
      "Среднее 60_discount =  28.705759785682393\n",
      "Среднее 30_discount =  23.339432284541722\n",
      "Ttest_indResult(statistic=1.229204062750153, pvalue=0.21901832429005894)\n",
      "Среднее 60_discount =  28.705759785682393\n",
      "Среднее no_discount =  26.856790630778715\n",
      "Ttest_indResult(statistic=0.339565066546044, pvalue=0.7341902452988776)\n",
      "Среднее 30_discount =  23.339432284541722\n",
      "Среднее no_discount =  26.856790630778715\n",
      "Ttest_indResult(statistic=-0.7853088021423297, pvalue=0.4322899029148176)\n"
     ]
    }
   ],
   "source": [
    "ttest_groups(users_exposure, groups, 'buy_pred')"
   ]
  },
  {
   "cell_type": "code",
   "execution_count": 382,
   "metadata": {},
   "outputs": [
    {
     "data": {
      "image/png": "[encoded data removed]",
      "text/plain": [
       "<Figure size 1200x400 with 2 Axes>"
      ]
     },
     "metadata": {},
     "output_type": "display_data"
    }
   ],
   "source": [
    "f, ax = plt.subplots(1,2, figsize=(12, 4))\n",
    "for a in groups:\n",
    "    t = users_exposure[users_exposure.experiment_group==a]['buy_pred']\n",
    "    ax[0].hist(t[t.values<=t.quantile(0.95)], alpha = 0.5, label = a)\n",
    "    ax[1].hist(t[t.values>t.quantile(0.95)], alpha = 0.5, label = a)\n",
    "ax[0].set_title('95% выборки')\n",
    "ax[1].set_title('5% выборки')\n",
    "ax[0].legend()\n",
    "ax[1].legend()\n",
    "f.suptitle('Распределение числа покупок на пользователя в группах на предпериоде')\n",
    "f.set_tight_layout(True)\n",
    "plt.show()\n"
   ]
  },
  {
   "attachments": {},
   "cell_type": "markdown",
   "metadata": {},
   "source": [
    "- Средние в группах различаются не значимо\n",
    "- СКО в группе 60_discount почти в 2 раза больше, чем в 30_discount, поэтому будем использовать CUPED"
   ]
  },
  {
   "cell_type": "code",
   "execution_count": 361,
   "metadata": {},
   "outputs": [
    {
     "name": "stdout",
     "output_type": "stream",
     "text": [
      "Среднее 60_discount =  24.958029468670933\n",
      "Среднее 30_discount =  20.477599179206567\n",
      "Ttest_indResult(statistic=4.517618710708997, pvalue=6.31091339094981e-06)\n",
      "Среднее 60_discount =  24.958029468670933\n",
      "Среднее no_discount =  27.495171563591533\n",
      "Ttest_indResult(statistic=-0.9657508608473354, pvalue=0.3341890233788244)\n",
      "Среднее 30_discount =  20.477599179206567\n",
      "Среднее no_discount =  27.495171563591533\n",
      "Ttest_indResult(statistic=-2.497280520674399, pvalue=0.012529879124339066)\n"
     ]
    }
   ],
   "source": [
    "users_exposure_b = add_cuped(users_exposure, groups, 'buy_test', 'buy_pred')\n",
    "ttest_groups(users_exposure_b, groups, 'cuped')"
   ]
  },
  {
   "attachments": {},
   "cell_type": "markdown",
   "metadata": {},
   "source": [
    "- Различия между группами 60_discount и 30_discount, no_discount и 30_discount значимы\n",
    "- Порядок средних не изменился: no_discount > 60_dicount > 30_dicount. Это может объясняться несбалансированностью выборок\n",
    "\n",
    "Посмотрим более подробно на распределение метрики на тесте"
   ]
  },
  {
   "cell_type": "code",
   "execution_count": 363,
   "metadata": {},
   "outputs": [
    {
     "name": "stdout",
     "output_type": "stream",
     "text": [
      "60_discount\n",
      "среднее = 24.958029468670933, СКО = 210.33469272996737, медиана = 4.0, 99% квантиль = 280.27999999999884, 99.9% квантиль = 3569.914000000188\n",
      "30_discount\n",
      "среднее = 20.477599179206567, СКО = 129.30315070747048, медиана = 4.0, 99% квантиль = 238.58999999999924, 99.9% квантиль = 2192.1310000000067\n",
      "no_discount\n",
      "среднее = 27.495171563591533, СКО = 285.35103619703233, медиана = 4.0, 99% квантиль = 393.72000000000116, 99.9% квантиль = 2396.694000000777\n"
     ]
    }
   ],
   "source": [
    "descr(users_exposure, groups, 'buy_test')"
   ]
  },
  {
   "cell_type": "code",
   "execution_count": 377,
   "metadata": {},
   "outputs": [
    {
     "data": {
      "image/png": "[encoded data removed]",
      "text/plain": [
       "<Figure size 1300x700 with 6 Axes>"
      ]
     },
     "metadata": {},
     "output_type": "display_data"
    }
   ],
   "source": [
    "f, ax = plt.subplots(3,2, figsize=(13, 7))\n",
    "for a in groups:\n",
    "    t = users_exposure[users_exposure.experiment_group==a]['buy_test']\n",
    "    ax[0, 0].hist(t[t.values<=t.quantile(0.95)], alpha = 0.5, label = a)\n",
    "    ax[0, 1].hist(t[t.values>t.quantile(0.95)], alpha = 0.5, label = a)\n",
    "    ax[1, 0].hist(t[t.values<=t.quantile(0.99)], alpha = 0.5, label = a)\n",
    "    ax[1, 1].hist(t[t.values>t.quantile(0.99)], alpha = 0.5, label = a)\n",
    "    ax[2, 0].hist(t[t.values<=t.quantile(0.75)], alpha = 0.5, label = a)\n",
    "    ax[2, 1].hist(t[t.values>t.quantile(0.75)], alpha = 0.5, label = a)\n",
    "ax[0, 0].set_title('95% выборки')\n",
    "ax[0, 1].set_title('5% выборки')\n",
    "ax[1, 0].set_title('99% выборки')\n",
    "ax[1, 1].set_title('1% выборки')\n",
    "ax[2, 0].set_title('75% выборки')\n",
    "ax[2, 1].set_title('25% выборки')\n",
    "ax[0, 0].legend()\n",
    "ax[1, 0].legend()\n",
    "ax[1, 1].legend()\n",
    "ax[0, 1].legend()\n",
    "ax[2, 0].legend()\n",
    "ax[2, 1].legend()\n",
    "f.suptitle('Распределение числа покупок на пользователя в группах на тесте')\n",
    "f.set_tight_layout(True)\n",
    "plt.show()"
   ]
  },
  {
   "attachments": {},
   "cell_type": "markdown",
   "metadata": {},
   "source": [
    "На графиках наблюдаем другую картину, чем на результатах проверки гипотезы: визульно число покупок больше в группах со скидками. Однако на графике 1% заметно, что в no_discont есть выбросы.\n",
    "\n",
    "Поэтому далее проверим гипотезу на 95% и 75% выборки, отсечку сделаем по предпериоду."
   ]
  },
  {
   "cell_type": "code",
   "execution_count": 383,
   "metadata": {},
   "outputs": [],
   "source": [
    "users_exposure_95 = users_exposure[users_exposure.buy_pred < users_exposure.buy_pred.quantile(0.95)]\n",
    "users_exposure_75 = users_exposure[users_exposure.buy_pred < users_exposure.buy_pred.quantile(0.75)]"
   ]
  },
  {
   "cell_type": "code",
   "execution_count": 391,
   "metadata": {},
   "outputs": [
    {
     "name": "stdout",
     "output_type": "stream",
     "text": [
      "95%\n",
      "Выборочные статистики на предпериоде:\n",
      "60_discount\n",
      "среднее = 7.628325508607198, СКО = 10.703142082744176, медиана = 3.0, 75% квантиль = 9.0, 95% квантиль = 32.0, 99% квантиль = 51.0, 99.9% квантиль = 58.0\n",
      "30_discount\n",
      "среднее = 7.675193658800216, СКО = 10.689233230549519, медиана = 3.0, 75% квантиль = 10.0, 95% квантиль = 31.0, 99% квантиль = 50.0, 99.9% квантиль = 58.0\n",
      "no_discount\n",
      "среднее = 7.065857885615252, СКО = 10.156798652815771, медиана = 3.0, 75% квантиль = 9.0, 95% квантиль = 30.0, 99% квантиль = 49.0, 99.9% квантиль = 59.0\n",
      "\n",
      "ВЫборочные статистики на тесте:\n",
      "60_discount\n",
      "среднее = 8.55962441314554, СКО = 19.608600841671652, медиана = 4.0, 75% квантиль = 10.0, 95% квантиль = 30.0, 99% квантиль = 68.10999999999967, 99.9% квантиль = 168.49900000000707\n",
      "30_discount\n",
      "среднее = 8.500270221581697, СКО = 16.476780001148477, медиана = 4.0, 75% квантиль = 10.0, 95% квантиль = 33.0, 99% квантиль = 65.0, 99.9% квантиль = 192.9500000000371\n",
      "no_discount\n",
      "среднее = 9.035311958405545, СКО = 35.0610835000482, медиана = 3.0, 75% квантиль = 9.0, 95% квантиль = 31.25, 99% квантиль = 72.70000000000073, 99.9% квантиль = 448.03500000001986\n"
     ]
    }
   ],
   "source": [
    "print('95%')\n",
    "print('Выборочные статистики на предпериоде:')\n",
    "descr(users_exposure_95, groups, 'buy_pred')\n",
    "print('')\n",
    "print('ВЫборочные статистики на тесте:')\n",
    "descr(users_exposure_95, groups, 'buy_test')\n"
   ]
  },
  {
   "attachments": {},
   "cell_type": "markdown",
   "metadata": {},
   "source": [
    "Для 95% видим следующее:\n",
    "- на предпериоде в группах не наблдается значительных различий: ни в средних, ни в СКО\n",
    "- однако на тесте в группе no_discount появляются выбросы (судя по 99% и 99.9%), при этом в среднем в 60_discount и 30_discount значения выше (судя по медианам, 75%, 95%)"
   ]
  },
  {
   "cell_type": "code",
   "execution_count": 392,
   "metadata": {},
   "outputs": [
    {
     "name": "stdout",
     "output_type": "stream",
     "text": [
      "75%\n",
      "Выборочные статистики на предпериоде:\n",
      "60_discount\n",
      "среднее = 2.972972972972973, СКО = 2.8568276581522682, медиана = 2.0, 75% квантиль = 5.0, 95% квантиль = 9.0, 99% квантиль = 10.0, 99.9% квантиль = 10.0\n",
      "30_discount\n",
      "среднее = 2.8952671040299904, СКО = 2.8264454873846607, медиана = 2.0, 75% квантиль = 5.0, 95% квантиль = 9.0, 99% квантиль = 10.0, 99.9% квантиль = 10.0\n",
      "no_discount\n",
      "среднее = 2.7873626373626372, СКО = 2.8153496491499213, медиана = 2.0, 75% квантиль = 4.0, 95% квантиль = 9.0, 99% квантиль = 10.0, 99.9% квантиль = 10.0\n",
      "\n",
      "ВЫборочные статистики на тесте:\n",
      "60_discount\n",
      "среднее = 5.075030254134732, СКО = 9.97671374636022, медиана = 3.0, 75% квантиль = 6.0, 95% квантиль = 16.0, 99% квантиль = 36.0, 99.9% квантиль = 104.08600000000115\n",
      "30_discount\n",
      "среднее = 4.7671040299906275, СКО = 9.801839065994342, медиана = 2.0, 75% квантиль = 6.0, 95% квантиль = 15.649999999999636, 99% квантиль = 34.32999999999993, 99.9% квантиль = 100.46600000000035\n",
      "no_discount\n",
      "среднее = 5.066483516483516, СКО = 18.130832809765128, медиана = 2.0, 75% квантиль = 5.0, 95% квантиль = 15.0, 99% квантиль = 41.61000000000013, 99.9% квантиль = 186.76000000005297\n"
     ]
    }
   ],
   "source": [
    "print('75%')\n",
    "print('Выборочные статистики на предпериоде:')\n",
    "descr(users_exposure_75, groups, 'buy_pred')\n",
    "print('')\n",
    "print('ВЫборочные статистики на тесте:')\n",
    "descr(users_exposure_75, groups, 'buy_test')"
   ]
  },
  {
   "attachments": {},
   "cell_type": "markdown",
   "metadata": {},
   "source": [
    "Для 75% наблюдается то же самое"
   ]
  },
  {
   "attachments": {},
   "cell_type": "markdown",
   "metadata": {},
   "source": [
    "Попробуем выбрать порог отсечения по результам теста"
   ]
  },
  {
   "cell_type": "code",
   "execution_count": 396,
   "metadata": {},
   "outputs": [],
   "source": [
    "users_exposure_95 = users_exposure[users_exposure.buy_test< users_exposure.buy_test.quantile(0.95)]\n",
    "users_exposure_75 = users_exposure[users_exposure.buy_test < users_exposure.buy_test.quantile(0.75)]"
   ]
  },
  {
   "cell_type": "code",
   "execution_count": 399,
   "metadata": {},
   "outputs": [
    {
     "name": "stdout",
     "output_type": "stream",
     "text": [
      "Среднее 60_discount =  7.5915625\n",
      "Среднее 30_discount =  7.657065706570657\n",
      "Ttest_indResult(statistic=-0.36012853315845267, pvalue=0.7187573788429424)\n",
      "Среднее 60_discount =  7.5915625\n",
      "Среднее no_discount =  7.14620899413426\n",
      "Ttest_indResult(statistic=2.357752914858674, pvalue=0.018403333358985596)\n",
      "Среднее 30_discount =  7.657065706570657\n",
      "Среднее no_discount =  7.14620899413426\n",
      "Ttest_indResult(statistic=2.5744183217628804, pvalue=0.010054912993455829)\n"
     ]
    }
   ],
   "source": [
    "ttest_groups(users_exposure_95, groups, 'buy_test')"
   ]
  },
  {
   "attachments": {},
   "cell_type": "markdown",
   "metadata": {},
   "source": [
    "Получили, что если исключить выбросы на тесте, средние групп со скидкой значимо больше группы без скидки.\n",
    "\n",
    "Однако это не совсем правильный подход (тк делим по результатам теста) и остается не понятным, откуда появились выбросы в группе no_discount. Поэтому попробуем разделить пользователей по их типам"
   ]
  },
  {
   "attachments": {},
   "cell_type": "markdown",
   "metadata": {},
   "source": [
    "##### **Сегментация по типам**"
   ]
  },
  {
   "cell_type": "code",
   "execution_count": 403,
   "metadata": {},
   "outputs": [],
   "source": [
    "df_segment.columns = ['user_id_x', 'experiment_group', 'user_type', 'registration_time']"
   ]
  },
  {
   "cell_type": "code",
   "execution_count": 404,
   "metadata": {},
   "outputs": [],
   "source": [
    "df_users_seg = df_users.merge(df_segment[['user_id_x', 'user_type']], on='user_id_x', how='left')"
   ]
  },
  {
   "cell_type": "code",
   "execution_count": 409,
   "metadata": {},
   "outputs": [],
   "source": [
    "segments = df_users_seg['user_type'].unique()"
   ]
  },
  {
   "cell_type": "code",
   "execution_count": 415,
   "metadata": {},
   "outputs": [],
   "source": [
    "def descr_s(d, groups, col):\n",
    "    for a in groups:\n",
    "        print(a)\n",
    "        t = d[d.user_type==a][col]\n",
    "        print(f'количество = {t.count()}, среднее = {t.mean()}, СКО = {t.std()}, медиана = {t.median()}, 75% квантиль = {t.quantile(0.75)}, 95% квантиль = {t.quantile(0.95)}, 99% квантиль = {t.quantile(0.99)}, 99.9% квантиль = {t.quantile(0.999)}')"
   ]
  },
  {
   "cell_type": "code",
   "execution_count": 416,
   "metadata": {},
   "outputs": [
    {
     "name": "stdout",
     "output_type": "stream",
     "text": [
      "Company\n",
      "количество = 35493, среднее = 19.34327895641394, СКО = 229.42296167190412, медиана = 4.0, 75% квантиль = 12.0, 95% квантиль = 54.0, 99% квантиль = 213.1600000000035, 99.9% квантиль = 1598.6680000000342\n",
      "Private\n",
      "количество = 263033, среднее = 6.120167431462972, СКО = 42.47516354515001, медиана = 2.0, 75% квантиль = 5.0, 95% квантиль = 22.0, 99% квантиль = 64.0, 99.9% квантиль = 244.9680000000517\n",
      "Shop\n",
      "количество = 9507, среднее = 223.8386452087935, СКО = 1391.1304114413736, медиана = 23.0, 75% квантиль = 90.0, 95% квантиль = 866.3999999999978, 99% квантиль = 3843.040000000008, 99.9% квантиль = 10338.282000000121\n"
     ]
    }
   ],
   "source": [
    "descr_s(df_users_seg, segments, 'buy_pred')"
   ]
  },
  {
   "attachments": {},
   "cell_type": "markdown",
   "metadata": {},
   "source": [
    "Очевидно, значения сильно различаются для разных групп. Поэтому далее проведем ttest для пользователей, прошедших верификацию, в зависимости от типа."
   ]
  },
  {
   "cell_type": "code",
   "execution_count": 418,
   "metadata": {},
   "outputs": [],
   "source": [
    "users_exposure_seg = users_exposure.merge(df_segment[['user_id_x', 'user_type']], on='user_id_x', how='left')"
   ]
  },
  {
   "cell_type": "code",
   "execution_count": 421,
   "metadata": {},
   "outputs": [],
   "source": [
    "users_exposure_private = users_exposure_seg[users_exposure_seg.user_type == 'Private']\n",
    "users_exposure_shop = users_exposure_seg[users_exposure_seg.user_type == 'Shop']\n",
    "users_exposure_comp = users_exposure_seg[users_exposure_seg.user_type == 'Company']"
   ]
  },
  {
   "attachments": {},
   "cell_type": "markdown",
   "metadata": {},
   "source": [
    "**Физ лица:**"
   ]
  },
  {
   "cell_type": "code",
   "execution_count": 429,
   "metadata": {},
   "outputs": [
    {
     "data": {
      "text/plain": [
       "(19057, 8)"
      ]
     },
     "execution_count": 429,
     "metadata": {},
     "output_type": "execute_result"
    }
   ],
   "source": [
    "# объем выборки\n",
    "users_exposure_private.shape"
   ]
  },
  {
   "cell_type": "code",
   "execution_count": 425,
   "metadata": {},
   "outputs": [
    {
     "name": "stdout",
     "output_type": "stream",
     "text": [
      "Среднее 60_discount =  9.141335740072202\n",
      "Среднее 30_discount =  9.023039526527162\n",
      "Ttest_indResult(statistic=0.3646854936563533, pvalue=0.7153536978645294)\n",
      "Среднее 60_discount =  9.141335740072202\n",
      "Среднее no_discount =  8.12888436067244\n",
      "Ttest_indResult(statistic=2.988798423637143, pvalue=0.0028079615086275297)\n",
      "Среднее 30_discount =  9.023039526527162\n",
      "Среднее no_discount =  8.12888436067244\n",
      "Ttest_indResult(statistic=3.058309689699225, pvalue=0.0022326939630737033)\n"
     ]
    }
   ],
   "source": [
    "users_exposure_private_b = add_cuped(users_exposure_private, groups, 'buy_test', 'buy_pred')\n",
    "ttest_groups(users_exposure_private_b, groups, 'cuped')"
   ]
  },
  {
   "attachments": {},
   "cell_type": "markdown",
   "metadata": {},
   "source": [
    "В группах со скидками покупок значимо больше."
   ]
  },
  {
   "attachments": {},
   "cell_type": "markdown",
   "metadata": {},
   "source": [
    "**Компании:**"
   ]
  },
  {
   "cell_type": "code",
   "execution_count": 431,
   "metadata": {},
   "outputs": [
    {
     "data": {
      "text/plain": [
       "(2551, 8)"
      ]
     },
     "execution_count": 431,
     "metadata": {},
     "output_type": "execute_result"
    }
   ],
   "source": [
    "# объем выборки\n",
    "users_exposure_comp.shape"
   ]
  },
  {
   "cell_type": "code",
   "execution_count": 435,
   "metadata": {},
   "outputs": [
    {
     "name": "stdout",
     "output_type": "stream",
     "text": [
      "60_discount\n",
      "среднее = 32.995, СКО = 181.88998717437107, медиана = 7.0, 75% квантиль = 20.25, 95% квантиль = 89.14999999999986, 99% квантиль = 395.2199999999998, 99.9% квантиль = 3030.4340000000857, кол-во = 800\n",
      "30_discount\n",
      "среднее = 24.278709677419354, СКО = 89.04509062103084, медиана = 8.0, 75% квантиль = 20.5, 95% квантиль = 88.0, 99% квантиль = 215.51999999999998, 99.9% квантиль = 1110.3800000001274, кол-во = 775\n",
      "no_discount\n",
      "среднее = 31.288709677419355, СКО = 174.92123923910165, медиана = 7.0, 75% квантиль = 19.0, 95% квантиль = 96.19999999999982, 99% квантиль = 421.5699999999947, 99.9% квантиль = 2062.622000000262, кол-во = 620\n"
     ]
    }
   ],
   "source": [
    "descr(users_exposure_comp, groups, 'buy_pred')"
   ]
  },
  {
   "cell_type": "code",
   "execution_count": 439,
   "metadata": {},
   "outputs": [
    {
     "name": "stdout",
     "output_type": "stream",
     "text": [
      "Среднее 60_discount =  32.995\n",
      "Среднее 30_discount =  24.278709677419354\n",
      "Ttest_indResult(statistic=1.2018077938960423, pvalue=0.22961890533668378)\n",
      "Среднее 60_discount =  32.995\n",
      "Среднее no_discount =  31.288709677419355\n",
      "Ttest_indResult(statistic=0.1782726125203548, pvalue=0.858534350841686)\n",
      "Среднее 30_discount =  24.278709677419354\n",
      "Среднее no_discount =  31.288709677419355\n",
      "Ttest_indResult(statistic=-0.9696531005619268, pvalue=0.33238776211967547)\n"
     ]
    }
   ],
   "source": [
    "ttest_groups(users_exposure_comp, groups, 'buy_pred')"
   ]
  },
  {
   "cell_type": "code",
   "execution_count": 432,
   "metadata": {},
   "outputs": [
    {
     "name": "stdout",
     "output_type": "stream",
     "text": [
      "Среднее 60_discount =  24.57375\n",
      "Среднее 30_discount =  19.224516129032256\n",
      "Ttest_indResult(statistic=3.0305664730480864, pvalue=0.002480779310432438)\n",
      "Среднее 60_discount =  24.57375\n",
      "Среднее no_discount =  25.116129032258065\n",
      "Ttest_indResult(statistic=-0.1738725581431143, pvalue=0.8619904374826142)\n",
      "Среднее 30_discount =  19.224516129032256\n",
      "Среднее no_discount =  25.116129032258065\n",
      "Ttest_indResult(statistic=-1.7066662327234987, pvalue=0.08810698059648815)\n"
     ]
    }
   ],
   "source": [
    "users_exposure_comp_b = add_cuped(users_exposure_comp, groups, 'buy_test', 'buy_pred')\n",
    "ttest_groups(users_exposure_comp_b, groups, 'cuped')"
   ]
  },
  {
   "attachments": {},
   "cell_type": "markdown",
   "metadata": {},
   "source": [
    "В группе 60_discount значимо больше покупок, чем в 30_discount. При этом соотношение средних no_discount > 60_discount > 30_discount"
   ]
  },
  {
   "attachments": {},
   "cell_type": "markdown",
   "metadata": {},
   "source": [
    "**Магазины:**"
   ]
  },
  {
   "cell_type": "code",
   "execution_count": 436,
   "metadata": {},
   "outputs": [
    {
     "data": {
      "text/plain": [
       "(1050, 8)"
      ]
     },
     "execution_count": 436,
     "metadata": {},
     "output_type": "execute_result"
    }
   ],
   "source": [
    "# объем выборки\n",
    "users_exposure_shop.shape"
   ]
  },
  {
   "cell_type": "code",
   "execution_count": 437,
   "metadata": {},
   "outputs": [
    {
     "name": "stdout",
     "output_type": "stream",
     "text": [
      "60_discount\n",
      "среднее = 299.155672823219, СКО = 1165.9569449147693, медиана = 26.0, 75% квантиль = 112.0, 95% квантиль = 1255.1, 99% квантиль = 5113.299999999975, 99.9% квантиль = 12991.88800000013, кол-во = 379\n",
      "30_discount\n",
      "среднее = 207.01461988304092, СКО = 664.681351405218, медиана = 27.0, 75% квантиль = 88.75, 95% квантиль = 994.1999999999987, 99% квантиль = 3147.2599999999998, 99.9% квантиль = 6424.439000000069, кол-во = 342\n",
      "no_discount\n",
      "среднее = 240.01246105919003, СКО = 1058.5356423353144, медиана = 26.0, 75% квантиль = 105.0, 95% квантиль = 778.0, 99% квантиль = 3409.600000000003, 99.9% квантиль = 12884.880000000569, кол-во = 321\n"
     ]
    }
   ],
   "source": [
    "descr(users_exposure_shop, groups, 'buy_pred')"
   ]
  },
  {
   "cell_type": "code",
   "execution_count": 440,
   "metadata": {},
   "outputs": [
    {
     "name": "stdout",
     "output_type": "stream",
     "text": [
      "Среднее 60_discount =  256.9683377308707\n",
      "Среднее 30_discount =  181.77192982456137\n",
      "Ttest_indResult(statistic=4.814193249747619, pvalue=1.8023954671426588e-06)\n",
      "Среднее 60_discount =  256.9683377308707\n",
      "Среднее no_discount =  268.9501557632399\n",
      "Ttest_indResult(statistic=-0.2889024404374155, pvalue=0.7727418156146303)\n",
      "Среднее 30_discount =  181.77192982456137\n",
      "Среднее no_discount =  268.9501557632399\n",
      "Ttest_indResult(statistic=-2.003701786422228, pvalue=0.045509653988056085)\n"
     ]
    }
   ],
   "source": [
    "users_exposure_shop_b = add_cuped(users_exposure_shop, groups, 'buy_test', 'buy_pred')\n",
    "ttest_groups(users_exposure_shop_b, groups, 'cuped')"
   ]
  },
  {
   "attachments": {},
   "cell_type": "markdown",
   "metadata": {},
   "source": [
    "В группе 60_discount значимо больше покупок, чем в 30_discount. При этом соотношение средних no_discount > 60_discount > 30_discount\n",
    "\n",
    "Результаты для компаний и магазинов нельзя объяснить несбалансированностью выборок, тк на предпериоде больше выбросов содержалось в группе 60_discount.\n",
    "\n",
    "Поэтому далее посмотрим, какое количество пользователей в каждой из групп пользуется услугами 3 типа в вертикали 1."
   ]
  }
 ],
 "metadata": {
  "kernelspec": {
   "display_name": "Python 3",
   "language": "python",
   "name": "python3"
  },
  "language_info": {
   "codemirror_mode": {
    "name": "ipython",
    "version": 3
   },
   "file_extension": ".py",
   "mimetype": "text/x-python",
   "name": "python",
   "nbconvert_exporter": "python",
   "pygments_lexer": "ipython3",
   "version": "3.10.7"
  },
  "orig_nbformat": 4
 },
 "nbformat": 4,
 "nbformat_minor": 2
}
